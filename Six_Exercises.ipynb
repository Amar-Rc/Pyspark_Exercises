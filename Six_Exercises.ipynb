{
 "cells": [
  {
   "cell_type": "code",
   "execution_count": 2,
   "id": "50a74a72",
   "metadata": {
    "scrolled": true
   },
   "outputs": [],
   "source": [
    "from pyspark.sql import SparkSession\n",
    "spark = SparkSession.builder.appName('6Exercises').master('local[*]').getOrCreate()\n",
    "spark.conf.set('spark.sql.shuffle.partitions', 8)"
   ]
  },
  {
   "cell_type": "code",
   "execution_count": 3,
   "id": "d89a594b",
   "metadata": {},
   "outputs": [
    {
     "data": {
      "text/plain": [
       "['sellers_parquet',\n",
       " '.DS_Store',\n",
       " 'Untitled.ipynb',\n",
       " 'sales_parquet',\n",
       " '.ipynb_checkpoints',\n",
       " 'products_parquet']"
      ]
     },
     "execution_count": 3,
     "metadata": {},
     "output_type": "execute_result"
    }
   ],
   "source": [
    "import os\n",
    "os.listdir(os.getcwd())"
   ]
  },
  {
   "cell_type": "code",
   "execution_count": 4,
   "id": "50855777",
   "metadata": {},
   "outputs": [
    {
     "name": "stderr",
     "output_type": "stream",
     "text": [
      "                                                                                \r"
     ]
    }
   ],
   "source": [
    "df_products = spark.read.parquet('products_parquet')"
   ]
  },
  {
   "cell_type": "code",
   "execution_count": 5,
   "id": "d3388af0",
   "metadata": {},
   "outputs": [
    {
     "name": "stdout",
     "output_type": "stream",
     "text": [
      "root\n",
      " |-- product_id: string (nullable = true)\n",
      " |-- product_name: string (nullable = true)\n",
      " |-- price: string (nullable = true)\n",
      "\n"
     ]
    }
   ],
   "source": [
    "df_products.printSchema()"
   ]
  },
  {
   "cell_type": "code",
   "execution_count": 6,
   "id": "63c42a13",
   "metadata": {},
   "outputs": [],
   "source": [
    "df_sales = spark.read.parquet('sales_parquet')"
   ]
  },
  {
   "cell_type": "code",
   "execution_count": 7,
   "id": "87c4365a",
   "metadata": {},
   "outputs": [
    {
     "name": "stdout",
     "output_type": "stream",
     "text": [
      "root\n",
      " |-- order_id: string (nullable = true)\n",
      " |-- product_id: string (nullable = true)\n",
      " |-- seller_id: string (nullable = true)\n",
      " |-- date: string (nullable = true)\n",
      " |-- num_pieces_sold: string (nullable = true)\n",
      " |-- bill_raw_text: string (nullable = true)\n",
      "\n"
     ]
    }
   ],
   "source": [
    "df_sales.printSchema()"
   ]
  },
  {
   "cell_type": "code",
   "execution_count": 8,
   "id": "8222b66b",
   "metadata": {},
   "outputs": [],
   "source": [
    "df_sellers = spark.read.parquet('sellers_parquet')"
   ]
  },
  {
   "cell_type": "code",
   "execution_count": 9,
   "id": "9e6d118f",
   "metadata": {},
   "outputs": [
    {
     "name": "stdout",
     "output_type": "stream",
     "text": [
      "root\n",
      " |-- seller_id: string (nullable = true)\n",
      " |-- seller_name: string (nullable = true)\n",
      " |-- daily_target: string (nullable = true)\n",
      "\n"
     ]
    }
   ],
   "source": [
    "df_sellers.printSchema()"
   ]
  },
  {
   "cell_type": "markdown",
   "id": "57a4f666",
   "metadata": {},
   "source": [
    "# Find out how many orders, how many products and how many sellers are in the data."
   ]
  },
  {
   "cell_type": "code",
   "execution_count": 10,
   "id": "0b86173b",
   "metadata": {},
   "outputs": [
    {
     "name": "stderr",
     "output_type": "stream",
     "text": [
      "                                                                                \r"
     ]
    },
    {
     "name": "stdout",
     "output_type": "stream",
     "text": [
      "Order count: 20000040, Product count: 75000000, Seller count: 10\n"
     ]
    }
   ],
   "source": [
    "order_cnt = df_sales.select('order_id').count()\n",
    "product_cnt = df_products.select('product_id').count()\n",
    "seller_cnt = df_sellers.select('seller_id').count()\n",
    "print(f'Order count: {order_cnt}, Product count: {product_cnt}, Seller count: {seller_cnt}')"
   ]
  },
  {
   "cell_type": "markdown",
   "id": "68e4f156",
   "metadata": {},
   "source": [
    "# How many products have been sold at least once? Which is the product contained in more orders?"
   ]
  },
  {
   "cell_type": "code",
   "execution_count": 11,
   "id": "b1dc4fd5",
   "metadata": {
    "scrolled": true
   },
   "outputs": [
    {
     "name": "stderr",
     "output_type": "stream",
     "text": [
      "                                                                                \r"
     ]
    },
    {
     "data": {
      "text/plain": [
       "993429"
      ]
     },
     "execution_count": 11,
     "metadata": {},
     "output_type": "execute_result"
    }
   ],
   "source": [
    "df_sales.select('product_id').distinct().count()"
   ]
  },
  {
   "cell_type": "code",
   "execution_count": 12,
   "id": "fbae063c",
   "metadata": {},
   "outputs": [
    {
     "name": "stderr",
     "output_type": "stream",
     "text": [
      "[Stage 20:>                                                         (0 + 8) / 8]\r"
     ]
    },
    {
     "name": "stdout",
     "output_type": "stream",
     "text": [
      "+----------+--------+\n",
      "|product_id|   count|\n",
      "+----------+--------+\n",
      "|         0|19000000|\n",
      "+----------+--------+\n",
      "only showing top 1 row\n",
      "\n"
     ]
    },
    {
     "name": "stderr",
     "output_type": "stream",
     "text": [
      "\r",
      "                                                                                \r"
     ]
    }
   ],
   "source": [
    "df_sales.groupBy('product_id').count().orderBy('count', ascending = False).show(1)"
   ]
  },
  {
   "cell_type": "markdown",
   "id": "0e8ac1dc",
   "metadata": {},
   "source": [
    "# How many distinct products have been sold in each day?"
   ]
  },
  {
   "cell_type": "code",
   "execution_count": 13,
   "id": "8bd58901",
   "metadata": {},
   "outputs": [
    {
     "name": "stderr",
     "output_type": "stream",
     "text": [
      "[Stage 21:======================================================> (81 + 2) / 83]\r"
     ]
    },
    {
     "name": "stdout",
     "output_type": "stream",
     "text": [
      "+----------+------+\n",
      "|      date| count|\n",
      "+----------+------+\n",
      "|2020-07-06|100765|\n",
      "|2020-07-01|100337|\n",
      "|2020-07-02| 99807|\n",
      "|2020-07-07| 99756|\n",
      "|2020-07-10| 98973|\n",
      "|2020-07-04| 99791|\n",
      "|2020-07-09|100501|\n",
      "|2020-07-08| 99662|\n",
      "|2020-07-03|100017|\n",
      "|2020-07-05| 99796|\n",
      "+----------+------+\n",
      "\n"
     ]
    },
    {
     "name": "stderr",
     "output_type": "stream",
     "text": [
      "\r",
      "                                                                                \r"
     ]
    }
   ],
   "source": [
    "df_sales.select('date', 'product_id').distinct().groupby('date').count().show()"
   ]
  },
  {
   "cell_type": "markdown",
   "id": "2b43f287",
   "metadata": {},
   "source": [
    "# What is the average revenue of the orders?"
   ]
  },
  {
   "cell_type": "code",
   "execution_count": 22,
   "id": "28d80346",
   "metadata": {},
   "outputs": [
    {
     "name": "stderr",
     "output_type": "stream",
     "text": [
      "[Stage 46:==================================================>       (7 + 1) / 8]\r"
     ]
    },
    {
     "name": "stdout",
     "output_type": "stream",
     "text": [
      "+------------------+\n",
      "|  avg(total_price)|\n",
      "+------------------+\n",
      "|1246.1338560822878|\n",
      "+------------------+\n",
      "\n"
     ]
    },
    {
     "name": "stderr",
     "output_type": "stream",
     "text": [
      "23/03/15 18:52:32 WARN HeartbeatReceiver: Removing executor driver with no recent heartbeats: 286093 ms exceeds timeout 120000 ms\n",
      "23/03/15 18:52:32 WARN SparkContext: Killing executors is not supported by current scheduler.\n"
     ]
    }
   ],
   "source": [
    "from pyspark.sql.functions import *\n",
    "df_sales.select('order_id', 'product_id', 'num_pieces_sold').join(df_products.select('product_id', 'price'), on= 'product_id', how='inner').withColumn('total_price', col('num_pieces_sold')*col('price')).select(mean('total_price')).show()"
   ]
  },
  {
   "cell_type": "code",
   "execution_count": null,
   "id": "90d9e06a",
   "metadata": {},
   "outputs": [],
   "source": []
  }
 ],
 "metadata": {
  "kernelspec": {
   "display_name": "Python 3 (ipykernel)",
   "language": "python",
   "name": "python3"
  },
  "language_info": {
   "codemirror_mode": {
    "name": "ipython",
    "version": 3
   },
   "file_extension": ".py",
   "mimetype": "text/x-python",
   "name": "python",
   "nbconvert_exporter": "python",
   "pygments_lexer": "ipython3",
   "version": "3.9.15"
  }
 },
 "nbformat": 4,
 "nbformat_minor": 5
}
